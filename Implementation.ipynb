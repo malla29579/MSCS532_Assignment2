{
  "nbformat": 4,
  "nbformat_minor": 0,
  "metadata": {
    "colab": {
      "provenance": []
    },
    "kernelspec": {
      "name": "python3",
      "display_name": "Python 3"
    },
    "language_info": {
      "name": "python"
    }
  },
  "cells": [
    {
      "cell_type": "code",
      "execution_count": 1,
      "metadata": {
        "colab": {
          "base_uri": "https://localhost:8080/"
        },
        "id": "QLcgad07qxhB",
        "outputId": "088098d1-3de8-4439-d9fe-04fd219188ab"
      },
      "outputs": [
        {
          "output_type": "stream",
          "name": "stdout",
          "text": [
            "Sorted array: [1, 5, 7, 8, 9, 10]\n"
          ]
        }
      ],
      "source": [
        "def quick_sort(arr):\n",
        "    # Helper function to partition the array\n",
        "    def partition(low, high):\n",
        "        pivot = arr[high]  # Choosing the last element as the pivot\n",
        "        i = low - 1        # Pointer for the smaller element\n",
        "        for j in range(low, high):\n",
        "            if arr[j] < pivot:\n",
        "                i += 1\n",
        "                arr[i], arr[j] = arr[j], arr[i]  # Swap\n",
        "        arr[i + 1], arr[high] = arr[high], arr[i + 1]  # Swap pivot into place\n",
        "        return i + 1\n",
        "\n",
        "    # Recursive function to apply quicksort\n",
        "    def quick_sort_recursive(low, high):\n",
        "        if low < high:\n",
        "            pi = partition(low, high)            # Partition the array\n",
        "            quick_sort_recursive(low, pi - 1)    # Sort the left part\n",
        "            quick_sort_recursive(pi + 1, high)   # Sort the right part\n",
        "\n",
        "    quick_sort_recursive(0, len(arr) - 1)\n",
        "    return arr\n",
        "\n",
        "# Example usage\n",
        "arr = [10, 7, 8, 9, 1, 5]\n",
        "print(\"Sorted array:\", quick_sort(arr))\n"
      ]
    },
    {
      "cell_type": "code",
      "source": [
        "def merge_sort(arr):\n",
        "    # Base case\n",
        "    if len(arr) > 1:\n",
        "        mid = len(arr) // 2  # Finding the midpoint\n",
        "        left_half = arr[:mid]\n",
        "        right_half = arr[mid:]\n",
        "\n",
        "        # Recursively sorting both halves\n",
        "        merge_sort(left_half)\n",
        "        merge_sort(right_half)\n",
        "\n",
        "        # Merging the sorted halves\n",
        "        i = j = k = 0\n",
        "        while i < len(left_half) and j < len(right_half):\n",
        "            if left_half[i] < right_half[j]:\n",
        "                arr[k] = left_half[i]\n",
        "                i += 1\n",
        "            else:\n",
        "                arr[k] = right_half[j]\n",
        "                j += 1\n",
        "            k += 1\n",
        "\n",
        "        # Copy remaining elements of left_half\n",
        "        while i < len(left_half):\n",
        "            arr[k] = left_half[i]\n",
        "            i += 1\n",
        "            k += 1\n",
        "\n",
        "        # Copy remaining elements of right_half\n",
        "        while j < len(right_half):\n",
        "            arr[k] = right_half[j]\n",
        "            j += 1\n",
        "            k += 1\n",
        "\n",
        "    return arr\n",
        "\n",
        "# Example usage\n",
        "arr = [12, 11, 13, 5, 6, 7]\n",
        "print(\"Sorted array:\", merge_sort(arr))\n"
      ],
      "metadata": {
        "colab": {
          "base_uri": "https://localhost:8080/"
        },
        "id": "19N4H591qzOk",
        "outputId": "e433bbe6-cdf9-4e07-bec6-955ada0882fc"
      },
      "execution_count": 2,
      "outputs": [
        {
          "output_type": "stream",
          "name": "stdout",
          "text": [
            "Sorted array: [5, 6, 7, 11, 12, 13]\n"
          ]
        }
      ]
    }
  ]
}